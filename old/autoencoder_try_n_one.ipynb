{
  "nbformat": 4,
  "nbformat_minor": 0,
  "metadata": {
    "colab": {
      "name": "autoencoder_try.ipynb",
      "provenance": [],
      "include_colab_link": true
    },
    "kernelspec": {
      "name": "python3",
      "display_name": "Python 3"
    }
  },
  "cells": [
    {
      "cell_type": "markdown",
      "metadata": {
        "id": "view-in-github",
        "colab_type": "text"
      },
      "source": [
        "<a href=\"https://colab.research.google.com/github/381706-1Mityagina/Trying-to-understand-NN/blob/master/autoencoder_try_n_one.ipynb\" target=\"_parent\"><img src=\"https://colab.research.google.com/assets/colab-badge.svg\" alt=\"Open In Colab\"/></a>"
      ]
    },
    {
      "cell_type": "code",
      "metadata": {
        "id": "S8lyTSK1jVox",
        "colab_type": "code",
        "outputId": "97dd75ab-ab0d-4c05-9da0-301d4139a512",
        "colab": {
          "base_uri": "https://localhost:8080/",
          "height": 113
        }
      },
      "source": [
        "\n",
        "from keras.datasets import mnist\n",
        "import numpy as np\n",
        "\n",
        "(x_train, y_train), (x_test, y_test) = mnist.load_data()\n",
        "\n",
        "x_train = x_train.astype('float32') / 255.\n",
        "x_test  = x_test .astype('float32') / 255.\n",
        "x_train = np.reshape(x_train, (len(x_train), 28, 28, 1))\n",
        "x_test  = np.reshape(x_test,  (len(x_test),  28, 28, 1))"
      ],
      "execution_count": 0,
      "outputs": [
        {
          "output_type": "stream",
          "text": [
            "Using TensorFlow backend.\n"
          ],
          "name": "stderr"
        },
        {
          "output_type": "display_data",
          "data": {
            "text/html": [
              "<p style=\"color: red;\">\n",
              "The default version of TensorFlow in Colab will soon switch to TensorFlow 2.x.<br>\n",
              "We recommend you <a href=\"https://www.tensorflow.org/guide/migrate\" target=\"_blank\">upgrade</a> now \n",
              "or ensure your notebook will continue to use TensorFlow 1.x via the <code>%tensorflow_version 1.x</code> magic:\n",
              "<a href=\"https://colab.research.google.com/notebooks/tensorflow_version.ipynb\" target=\"_blank\">more info</a>.</p>\n"
            ],
            "text/plain": [
              "<IPython.core.display.HTML object>"
            ]
          },
          "metadata": {
            "tags": []
          }
        },
        {
          "output_type": "stream",
          "text": [
            "Downloading data from https://s3.amazonaws.com/img-datasets/mnist.npz\n",
            "11493376/11490434 [==============================] - 1s 0us/step\n"
          ],
          "name": "stdout"
        }
      ]
    },
    {
      "cell_type": "markdown",
      "metadata": {
        "id": "AGPOQKndZTHH",
        "colab_type": "text"
      },
      "source": [
        "Данный файл содержит реализацию автоэнкодера, приведенную в \n",
        "статье https://habr.com/ru/post/331382/ (\"Автоэнкодеры в Keras, Часть 1: Введение\")\n",
        "Практическая часть курсовой работы. Начало."
      ]
    },
    {
      "cell_type": "code",
      "metadata": {
        "id": "t-WrBLu6jXkQ",
        "colab_type": "code",
        "colab": {}
      },
      "source": [
        "from keras.layers import Input, Dense, Flatten, Reshape\n",
        "from keras.models import Model\n",
        "\n",
        "def create_dense_ae():\n",
        "    # Размерность кодированного представления\n",
        "    encoding_dim = 49\n",
        "\n",
        "    # Энкодер\n",
        "    # Входной плейсхолдер\n",
        "    input_img = Input(shape=(28, 28, 1)) # 28, 28, 1 - размерности строк, столбцов, фильтров одной картинки, без батч-размерности\n",
        "    # Вспомогательный слой решейпинга\n",
        "    flat_img = Flatten()(input_img)\n",
        "    # Кодированное полносвязным слоем представление\n",
        "    encoded = Dense(encoding_dim, activation='relu')(flat_img)\n",
        "    \n",
        "    # Декодер\n",
        "    # Раскодированное другим полносвязным слоем изображение\n",
        "    input_encoded = Input(shape=(encoding_dim,))\n",
        "    flat_decoded = Dense(28*28, activation='sigmoid')(input_encoded)\n",
        "    decoded = Reshape((28, 28, 1))(flat_decoded)\n",
        "\n",
        "    # Модели, в конструктор первым аргументом передаются входные слои, а вторым выходные слои\n",
        "    # Другие модели можно так же использовать как и слои\n",
        "    encoder = Model(input_img, encoded, name=\"encoder\")\n",
        "    decoder = Model(input_encoded, decoded, name=\"decoder\")\n",
        "    autoencoder = Model(input_img, decoder(encoder(input_img)), name=\"autoencoder\")\n",
        "    return encoder, decoder, autoencoder"
      ],
      "execution_count": 0,
      "outputs": []
    },
    {
      "cell_type": "code",
      "metadata": {
        "id": "SVnV-804jdjU",
        "colab_type": "code",
        "colab": {}
      },
      "source": [
        "encoder, decoder, autoencoder = create_dense_ae()\n",
        "autoencoder.compile(optimizer='adam', loss='binary_crossentropy')"
      ],
      "execution_count": 0,
      "outputs": []
    },
    {
      "cell_type": "code",
      "metadata": {
        "id": "DP3QUHeGjhaS",
        "colab_type": "code",
        "outputId": "62ee1690-37d5-4069-ff09-27e1caf53666",
        "colab": {
          "base_uri": "https://localhost:8080/",
          "height": 252
        }
      },
      "source": [
        "autoencoder.summary()"
      ],
      "execution_count": 0,
      "outputs": [
        {
          "output_type": "stream",
          "text": [
            "Model: \"autoencoder\"\n",
            "_________________________________________________________________\n",
            "Layer (type)                 Output Shape              Param #   \n",
            "=================================================================\n",
            "input_1 (InputLayer)         (None, 28, 28, 1)         0         \n",
            "_________________________________________________________________\n",
            "encoder (Model)              (None, 49)                38465     \n",
            "_________________________________________________________________\n",
            "decoder (Model)              (None, 28, 28, 1)         39200     \n",
            "=================================================================\n",
            "Total params: 77,665\n",
            "Trainable params: 77,665\n",
            "Non-trainable params: 0\n",
            "_________________________________________________________________\n"
          ],
          "name": "stdout"
        }
      ]
    },
    {
      "cell_type": "code",
      "metadata": {
        "id": "Oaw9JURsjj2X",
        "colab_type": "code",
        "outputId": "6c900691-6d94-458f-8174-902ed5ad836e",
        "colab": {
          "base_uri": "https://localhost:8080/",
          "height": 675
        }
      },
      "source": [
        "autoencoder.fit(x_train, x_train,\n",
        "                epochs=10,\n",
        "                batch_size=256,\n",
        "                shuffle=True,\n",
        "                validation_data=(x_test, x_test))"
      ],
      "execution_count": 0,
      "outputs": [
        {
          "output_type": "stream",
          "text": [
            "WARNING:tensorflow:From /usr/local/lib/python3.6/dist-packages/keras/backend/tensorflow_backend.py:1033: The name tf.assign_add is deprecated. Please use tf.compat.v1.assign_add instead.\n",
            "\n",
            "WARNING:tensorflow:From /usr/local/lib/python3.6/dist-packages/keras/backend/tensorflow_backend.py:1020: The name tf.assign is deprecated. Please use tf.compat.v1.assign instead.\n",
            "\n",
            "WARNING:tensorflow:From /usr/local/lib/python3.6/dist-packages/keras/backend/tensorflow_backend.py:3005: The name tf.Session is deprecated. Please use tf.compat.v1.Session instead.\n",
            "\n",
            "Train on 60000 samples, validate on 10000 samples\n",
            "Epoch 1/10\n",
            "WARNING:tensorflow:From /usr/local/lib/python3.6/dist-packages/keras/backend/tensorflow_backend.py:190: The name tf.get_default_session is deprecated. Please use tf.compat.v1.get_default_session instead.\n",
            "\n",
            "WARNING:tensorflow:From /usr/local/lib/python3.6/dist-packages/keras/backend/tensorflow_backend.py:197: The name tf.ConfigProto is deprecated. Please use tf.compat.v1.ConfigProto instead.\n",
            "\n",
            "WARNING:tensorflow:From /usr/local/lib/python3.6/dist-packages/keras/backend/tensorflow_backend.py:207: The name tf.global_variables is deprecated. Please use tf.compat.v1.global_variables instead.\n",
            "\n",
            "WARNING:tensorflow:From /usr/local/lib/python3.6/dist-packages/keras/backend/tensorflow_backend.py:216: The name tf.is_variable_initialized is deprecated. Please use tf.compat.v1.is_variable_initialized instead.\n",
            "\n",
            "WARNING:tensorflow:From /usr/local/lib/python3.6/dist-packages/keras/backend/tensorflow_backend.py:223: The name tf.variables_initializer is deprecated. Please use tf.compat.v1.variables_initializer instead.\n",
            "\n",
            "60000/60000 [==============================] - 5s 78us/step - loss: 0.2580 - val_loss: 0.1750\n",
            "Epoch 2/10\n",
            "60000/60000 [==============================] - 4s 63us/step - loss: 0.1551 - val_loss: 0.1369\n",
            "Epoch 3/10\n",
            "60000/60000 [==============================] - 4s 64us/step - loss: 0.1277 - val_loss: 0.1177\n",
            "Epoch 4/10\n",
            "60000/60000 [==============================] - 4s 66us/step - loss: 0.1123 - val_loss: 0.1054\n",
            "Epoch 5/10\n",
            "60000/60000 [==============================] - 4s 64us/step - loss: 0.1021 - val_loss: 0.0970\n",
            "Epoch 6/10\n",
            "60000/60000 [==============================] - 4s 63us/step - loss: 0.0952 - val_loss: 0.0914\n",
            "Epoch 7/10\n",
            "60000/60000 [==============================] - 4s 63us/step - loss: 0.0903 - val_loss: 0.0873\n",
            "Epoch 8/10\n",
            "60000/60000 [==============================] - 4s 64us/step - loss: 0.0868 - val_loss: 0.0846\n",
            "Epoch 9/10\n",
            "60000/60000 [==============================] - 4s 68us/step - loss: 0.0844 - val_loss: 0.0825\n",
            "Epoch 10/10\n",
            "60000/60000 [==============================] - 4s 67us/step - loss: 0.0829 - val_loss: 0.0813\n"
          ],
          "name": "stdout"
        },
        {
          "output_type": "execute_result",
          "data": {
            "text/plain": [
              "<keras.callbacks.History at 0x7f3f263289e8>"
            ]
          },
          "metadata": {
            "tags": []
          },
          "execution_count": 6
        }
      ]
    },
    {
      "cell_type": "code",
      "metadata": {
        "id": "ROiKJ8CajoGy",
        "colab_type": "code",
        "colab": {}
      },
      "source": [
        "%matplotlib inline\n",
        "import seaborn as sns\n",
        "import matplotlib.pyplot as plt\n",
        "\n",
        "def plot_digits(*args):\n",
        "    args = [x.squeeze() for x in args]\n",
        "    n = min([x.shape[0] for x in args])\n",
        "    \n",
        "    plt.figure(figsize=(2*n, 2*len(args)))\n",
        "    for j in range(n):\n",
        "        for i in range(len(args)):\n",
        "            ax = plt.subplot(len(args), n, i*n + j + 1)\n",
        "            plt.imshow(args[i][j])\n",
        "            plt.gray()\n",
        "            ax.get_xaxis().set_visible(False)\n",
        "            ax.get_yaxis().set_visible(False)\n",
        "\n",
        "    plt.show()"
      ],
      "execution_count": 0,
      "outputs": []
    },
    {
      "cell_type": "code",
      "metadata": {
        "id": "NfDqa60qjrFB",
        "colab_type": "code",
        "outputId": "31e89f17-4c99-440c-f03a-a28f031e5ca7",
        "colab": {
          "base_uri": "https://localhost:8080/",
          "height": 185
        }
      },
      "source": [
        "n = 10\n",
        "\n",
        "imgs = x_test[:n]\n",
        "encoded_imgs = encoder.predict(imgs, batch_size=n)\n",
        "encoded_imgs[0]"
      ],
      "execution_count": 0,
      "outputs": [
        {
          "output_type": "execute_result",
          "data": {
            "text/plain": [
              "array([ 4.5203967 ,  9.1329775 ,  5.9673147 ,  4.170228  ,  6.974074  ,\n",
              "        6.366394  ,  1.097224  ,  8.498376  ,  7.1316576 ,  4.861009  ,\n",
              "        5.0954204 ,  5.208288  ,  0.6066055 ,  5.738133  ,  0.12167645,\n",
              "        4.223877  ,  5.2569313 ,  4.557839  ,  5.236565  ,  6.8687763 ,\n",
              "        8.923111  ,  9.5498905 ,  0.88414115,  3.5614793 ,  4.315438  ,\n",
              "        3.606779  ,  4.2621717 ,  3.2255347 ,  5.0210714 ,  8.835248  ,\n",
              "        4.0411882 ,  7.499459  ,  2.5557332 ,  0.        ,  0.22857499,\n",
              "        5.904037  ,  0.54406434,  3.700069  ,  6.1713605 ,  9.022093  ,\n",
              "        7.122306  ,  4.042222  ,  4.499539  ,  5.242981  ,  3.1365964 ,\n",
              "        9.25601   ,  2.7493143 ,  5.535339  , 11.932426  ], dtype=float32)"
            ]
          },
          "metadata": {
            "tags": []
          },
          "execution_count": 10
        }
      ]
    },
    {
      "cell_type": "code",
      "metadata": {
        "id": "4pSHcQirjt05",
        "colab_type": "code",
        "colab": {}
      },
      "source": [
        "# array([  6.64665604,   7.53528595,   3.81508064,   4.66803837,\n",
        "#          1.50886345,   5.41063929,   9.28293324,  10.79530716,\n",
        "#          0.39599913,   4.20529413,   6.53982353,   5.64758158,\n",
        "#          5.25313473,   1.37336707,   9.37590599,   6.00672245,\n",
        "#          4.39552879,   5.39900637,   4.11449528,   7.490417  ,\n",
        "#         10.89267063,   7.74325705,  13.35806847,   3.59005809,\n",
        "#          9.75185394,   2.87570286,   3.64097357,   7.86691713,\n",
        "#          5.93383646,   5.52847338,   3.45317888,   1.88125253,\n",
        "#          7.471385  ,   7.29820824,  10.02830505,  10.5430584 ,\n",
        "#          3.2561543 ,   8.24713707,   2.2687614 ,   6.60069561,\n",
        "#          7.58116722,   4.48140812,   6.13670635,   2.9162209 ,\n",
        "#          8.05503941,  10.78182602,   4.26916027,   5.17175484,   6.18108797], dtype=float32)"
      ],
      "execution_count": 0,
      "outputs": []
    },
    {
      "cell_type": "code",
      "metadata": {
        "id": "3XzYLfagjwGX",
        "colab_type": "code",
        "outputId": "5ffde339-b719-494c-fdf6-964d6b8c97af",
        "colab": {
          "base_uri": "https://localhost:8080/",
          "height": 248
        }
      },
      "source": [
        "decoded_imgs = decoder.predict(encoded_imgs, batch_size=n)\n",
        "\n",
        "plot_digits(imgs, decoded_imgs)\n"
      ],
      "execution_count": 0,
      "outputs": [
        {
          "output_type": "display_data",
          "data": {
            "image/png": "[encoded data removed]",
            "text/plain": [
              "<Figure size 1440x288 with 20 Axes>"
            ]
          },
          "metadata": {
            "tags": []
          }
        }
      ]
    },
    {
      "cell_type": "markdown",
      "metadata": {
        "id": "QrsywVS9ZfXG",
        "colab_type": "text"
      },
      "source": [
        "\n",
        "Применение : \n",
        "1. Извлечения зависимостей в данных: автоэнкодеры пытаются минимизировать ошибку восстановления. \n",
        "В процессе уменьшения ошибки он изучает некоторые важные зависимости, присутствующие во входных данных. \n",
        "Он восстанавливает входные данные из кодированного состояния. Кодирование генерирует новый набор функций, \n",
        "который представляет собой комбинацию оригинальных зависимостей. Кодирование в автоэнкодерах помогает \n",
        "идентифицировать скрытые зависимости, присутствующие во входных данных.\n",
        "2. Распознавание изображений: для распознавания изображений используется сложный автоэнкодер. \n",
        "Можно использовать несколько совмещенных кодировщиков, что помогает изучить различные функции изображения."
      ]
    }
  ]
}